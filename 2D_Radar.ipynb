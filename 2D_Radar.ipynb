{
 "cells": [
  {
   "cell_type": "code",
   "execution_count": 5,
   "id": "363cd39a",
   "metadata": {},
   "outputs": [],
   "source": [
    "import pyart\n",
    "import xarray as xr\n",
    "import numpy as np\n",
    "import matplotlib.pyplot as plt\n",
    "import netCDF4 as nc\n",
    "import cartopy.crs as ccrs\n",
    "from pyproj import Proj, CRS, Transformer\n",
    "import glob\n",
    "import xarray as xr\n",
    "from datetime import datetime, timedelta\n",
    "import pandas as pd"
   ]
  },
  {
   "cell_type": "code",
   "execution_count": 2,
   "id": "1d16b061",
   "metadata": {},
   "outputs": [],
   "source": [
    "# Date of the data\n",
    "year = '2025'\n",
    "month = '03'\n",
    "day = '13'\n",
    "\n",
    "# The path to the data directory\n",
    "# The data is stored in the following directory structure\n",
    "# /mnt/gws/data/tone-ico_doppler_scanning_cloud_radar/L0/Y2025/M03/D13/\n",
    "# The year, month and day are used to construct the path\n",
    "data='/gws/nopw/j04/tone_ico_gws/data/tone-ico_doppler_scanning_cloud_radar/L0/Y'+year+'/M'+month+'/D'+day+'/*PPI.LV1.NC'\n",
    "file_list = sorted(glob.glob(data))  "
   ]
  },
  {
   "cell_type": "code",
   "execution_count": 16,
   "id": "5319cf4a",
   "metadata": {},
   "outputs": [
    {
     "name": "stdout",
     "output_type": "stream",
     "text": [
      "<xarray.DataArray 'reflectivity' (azimuth: 106, range: 250)> Size: 106kB\n",
      "array([[       nan,        nan, 0.00012369, ..., 0.04529182, 0.04644562,\n",
      "        0.04376626],\n",
      "       [       nan,        nan,        nan, ..., 0.05536205, 0.05901112,\n",
      "        0.05363842],\n",
      "       [       nan,        nan, 0.00294858, ..., 0.05577671, 0.05760406,\n",
      "        0.0592706 ],\n",
      "       ...,\n",
      "       [       nan,        nan, 0.00190774, ..., 0.06961532, 0.06791825,\n",
      "        0.06544094],\n",
      "       [       nan,        nan,        nan, ..., 0.06996405, 0.06656076,\n",
      "        0.06741497],\n",
      "       [       nan,        nan,        nan, ..., 0.0699541 , 0.06769476,\n",
      "        0.06814254]], shape=(106, 250), dtype=float32)\n",
      "Coordinates:\n",
      "  * azimuth  (azimuth) float64 848B 0.0 0.05928 0.1186 ... 6.105 6.165 6.224\n",
      "  * range    (range) float32 1kB 59.62 119.2 178.9 ... 1.491e+04 1.497e+04\n",
      "    time     (azimuth) datetime64[ns, UTC] 848B 2025-03-13T00:40:00+00:00 ......\n"
     ]
    }
   ],
   "source": [
    "# storing the scans\n",
    "scans = {}\n",
    "\n",
    "# iterating over all the hourly radar scans during the given day\n",
    "for file in file_list[:1]:\n",
    "    ds = xr.open_dataset(file)\n",
    "\n",
    "    # central lat/lon\n",
    "    trollLat = ds['GPSLat'].values\n",
    "    trollLon = ds['GPSLon'].values\n",
    "\n",
    "    # Stack all CZE variables along the range dimension\n",
    "    cze_vars = ['C1ZE45', 'C2ZE45', 'C3ZE45', 'C4ZE45']\n",
    "    data_list = [ds[var].values for var in cze_vars]\n",
    "    range_list = [ds[var.replace('ZE45', 'Range')].values for var in cze_vars]\n",
    "\n",
    "    # Concatenate data and ranges\n",
    "    data_stacked = np.concatenate(data_list, axis=1)  # shape: (n_az, total_range)\n",
    "    ranges_stacked = np.concatenate(range_list)       # shape: (total_range,)\n",
    "\n",
    "    # Set all values below -30 to NaN\n",
    "    data_stacked[data_stacked < -30] = np.nan\n",
    "\n",
    "    # Generate synthetic azimuths (assuming evenly spaced)\n",
    "    n_az = ds['Time'].size\n",
    "    azimuths = np.linspace(0, 2 * np.pi, n_az, endpoint=False)\n",
    "\n",
    "    # Create 2D grids for polar plot\n",
    "    azimuths_2d, ranges_2d = np.meshgrid(azimuths, ranges_stacked, indexing='ij')\n",
    "\n",
    "    # Create Cartesian grids\n",
    "    X = ranges_2d * np.cos(azimuths_2d)   \n",
    "    Y = ranges_2d * np.sin(azimuths_2d)   \n",
    "\n",
    "    # Transform to generate lat/lon grid\n",
    "    crs_centered = CRS.from_proj4(f\"+proj=aeqd +lat_0={trollLat} +lon_0={trollLon} +datum=WGS84 +units=m +no_defs\")\n",
    "    crs_geo = CRS.from_epsg(4326)  # WGS84 lat/lon\n",
    "    transformer = Transformer.from_crs(crs_centered, crs_geo, always_xy=True)\n",
    "    lon, lat = transformer.transform(X, Y)\n",
    "\n",
    "    # Dealing with dates\n",
    "    base_time = pd.Timestamp(\"2001-01-01T00:00:00Z\")\n",
    "    raw_times = ds['Time'].values  # shape: (n_azimuth,)\n",
    "    converted_times = base_time + pd.to_timedelta(raw_times, unit=\"s\")\n",
    "\n",
    "    reflectivity_da = xr.DataArray(\n",
    "        data=data_stacked,\n",
    "        dims=[\"azimuth\", \"range\"],\n",
    "        coords={\n",
    "            \"azimuth\": azimuths,\n",
    "            \"range\": ranges_stacked,\n",
    "            \"time\": (\"azimuth\", converted_times)\n",
    "        },\n",
    "        name=\"reflectivity\"\n",
    "    )\n",
    "\n",
    "    print(reflectivity_da)\n",
    "\n",
    "\n",
    "\n",
    "\n"
   ]
  },
  {
   "cell_type": "code",
   "execution_count": null,
   "id": "723621fb",
   "metadata": {},
   "outputs": [],
   "source": []
  }
 ],
 "metadata": {
  "kernelspec": {
   "display_name": "firstTest",
   "language": "python",
   "name": "python3"
  },
  "language_info": {
   "codemirror_mode": {
    "name": "ipython",
    "version": 3
   },
   "file_extension": ".py",
   "mimetype": "text/x-python",
   "name": "python",
   "nbconvert_exporter": "python",
   "pygments_lexer": "ipython3",
   "version": "3.13.3"
  }
 },
 "nbformat": 4,
 "nbformat_minor": 5
}

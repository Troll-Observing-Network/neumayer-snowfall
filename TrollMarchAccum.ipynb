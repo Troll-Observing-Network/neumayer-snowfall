{
 "cells": [
  {
   "cell_type": "code",
   "execution_count": 29,
   "id": "0d33dbd8",
   "metadata": {},
   "outputs": [],
   "source": [
    "import numpy as np\n",
    "import netCDF4 as nc\n",
    "import glob\n",
    "import matplotlib.pyplot as plt\n",
    "import re\n",
    "import pandas as pd\n",
    "from datetime import datetime, timedelta\n",
    "import os"
   ]
  },
  {
   "cell_type": "code",
   "execution_count": 4,
   "id": "13f97a37",
   "metadata": {},
   "outputs": [],
   "source": [
    "file_path = '/gws/nopw/j04/tone_ico_gws/cloudnet/troll/radar/'\n",
    "\n",
    "file_list = sorted(glob.glob('/gws/nopw/j04/tone_ico_gws/cloudnet/troll/radar/2025*.nc'))  # Adjust path based on month\n"
   ]
  },
  {
   "cell_type": "code",
   "execution_count": 22,
   "id": "e05ac67d",
   "metadata": {},
   "outputs": [],
   "source": [
    "ds = nc.Dataset(file_list[1])"
   ]
  },
  {
   "cell_type": "code",
   "execution_count": 7,
   "id": "3ac7dff9",
   "metadata": {},
   "outputs": [
    {
     "name": "stdout",
     "output_type": "stream",
     "text": [
      "<class 'netCDF4.Dataset'>\n",
      "root group (NETCDF4_CLASSIC data model, file format HDF5):\n",
      "    Conventions: CF-1.8\n",
      "    cloudnetpy_version: 1.70.1\n",
      "    file_uuid: 07b14537-223d-4d02-90be-88d618250ed2\n",
      "    cloudnet_file_type: radar\n",
      "    title: RPG-FMCW-35 cloud radar from Troll Station\n",
      "    year: 2025\n",
      "    month: 03\n",
      "    day: 01\n",
      "    location: Troll Station\n",
      "    history: 2025-03-02 00:35:51 +00:00 - radar file created\n",
      "    source: RPG-Radiometer Physics RPG-FMCW-35\n",
      "    references: https://doi.org/10.21105/joss.02123\n",
      "    pid: https://hdl.handle.net/21.12132/1.07b14537223d4d02\n",
      "    cloudnet_processing_version: 2.51.2\n",
      "    instrument_pid: https://hdl.handle.net/21.12132/3.82bd078f71da4bba\n",
      "    dimensions(sizes): time(14123), range(710), chirp_sequence(3)\n",
      "    variables(dimensions): int32 file_code(), int32 program_number(), int32 model_number(), float32 radar_frequency(), float32 antenna_separation(), float32 antenna_diameter(), float32 antenna_gain(), float32 half_power_beam_width(), int32 dual_polarization(), float32 sample_duration(), float32 latitude(), float32 longitude(), int32 calibration_interval(), float32 range(range), int32 number_of_spectral_samples(chirp_sequence), int32 chirp_start_indices(chirp_sequence), int32 number_of_averaged_chirps(chirp_sequence), float32 integration_time(chirp_sequence), float32 range_resolution(chirp_sequence), float32 nyquist_velocity(chirp_sequence), int32 FFT_window(), int32 input_voltage_range(), float32 noise_threshold(), float32 time(time), int32 time_ms(time), int32 quality_flag(time), float32 rainfall_rate(time), float32 relative_humidity(time), float32 air_temperature(time), float32 air_pressure(time), float32 wind_speed(time), float32 wind_direction(time), float32 voltage(time), float32 brightness_temperature(time), float32 lwp(time), float32 if_power(time), float32 azimuth_angle(time), float32 status_flag(time), float32 transmitted_power(time), float32 transmitter_temperature(time), float32 receiver_temperature(time), float32 pc_temperature(time), float32 Zh(time, range), float32 v(time, range), float32 width(time, range), float32 skewness(time, range), float32 kurtosis(time, range), float32 zdr(time, range), float32 rho_hv(time, range), float32 phi_dp(time, range), float32 sldr(time, range), float32 srho_hv(time, range), float32 kdp(time, range), float32 differential_attenuation(time, range), float32 altitude(), float32 zenith_angle(time), float32 height(range)\n",
      "    groups: \n"
     ]
    }
   ],
   "source": [
    "print(ds)"
   ]
  },
  {
   "cell_type": "code",
   "execution_count": 23,
   "id": "576c4933",
   "metadata": {},
   "outputs": [
    {
     "name": "stdout",
     "output_type": "stream",
     "text": [
      "<class 'netCDF4.Variable'>\n",
      "float32 time(time)\n",
      "    units: hours since 2025-03-02 00:00:00 +00:00\n",
      "    long_name: Time UTC\n",
      "    standard_name: time\n",
      "    axis: T\n",
      "    calendar: standard\n",
      "unlimited dimensions: \n",
      "current shape = (13536,)\n",
      "filling off\n",
      "0.00081944466\n",
      "-0.00082206726\n"
     ]
    }
   ],
   "source": [
    "#print(ds.variables['Zh'])\n",
    "print(ds.variables['time'])\n",
    "print(ds.variables['time'][1]-ds.variables['time'][0])\n",
    "print(ds.variables['time'][-3]-ds.variables['time'][-2])"
   ]
  },
  {
   "cell_type": "code",
   "execution_count": null,
   "id": "18c3f8f3",
   "metadata": {},
   "outputs": [],
   "source": [
    "radar_data = pd.DataFrame()\n",
    "\n",
    "for file in file_list:\n",
    "    dset = nc.Dataset(file)\n",
    "\n",
    "    dbz = np.array(dset.variables['Zh'][:, 0])\n",
    "    dbz[dbz > 1000] = np.nan\n",
    "    z = 10 ** (dbz / 10)\n",
    "\n",
    "    a = 18\n",
    "    b = 1.1\n",
    "\n",
    "    precip = (z / a) ** (1 / b)\n",
    "\n",
    "    basename = os.path.basename(file)  # remove directory path\n",
    "    date_str = basename.split('_')[0]  # get \"YYYYMMDD\"\n",
    "    base_time = datetime.strptime(date_str, '%Y%m%d')\n",
    "\n",
    "    time_var = ds.variables['time'][:]  # shape (n,)\n",
    "    timestamps = [base_time + timedelta(hours=float(h)) for h in time_var]\n",
    "    \n",
    "\n",
    "    df = pd.DataFrame({'snowfall': precip}, index=pd.to_datetime(timestamps))\n",
    "    all_data = pd.concat([all_data, df])\n",
    "\n",
    "\n"
   ]
  }
 ],
 "metadata": {
  "kernelspec": {
   "display_name": "firstTest",
   "language": "python",
   "name": "python3"
  },
  "language_info": {
   "codemirror_mode": {
    "name": "ipython",
    "version": 3
   },
   "file_extension": ".py",
   "mimetype": "text/x-python",
   "name": "python",
   "nbconvert_exporter": "python",
   "pygments_lexer": "ipython3",
   "version": "3.13.3"
  }
 },
 "nbformat": 4,
 "nbformat_minor": 5
}

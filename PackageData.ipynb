{
 "cells": [
  {
   "cell_type": "code",
   "execution_count": 1,
   "id": "443d1276",
   "metadata": {},
   "outputs": [],
   "source": [
    "import numpy as np\n",
    "import netCDF4 as nc\n",
    "import glob"
   ]
  },
  {
   "cell_type": "code",
   "execution_count": 24,
   "id": "3b089f20",
   "metadata": {},
   "outputs": [],
   "source": [
    "file_path = '/gws/nopw/j04/tone_ico_gws/cloudnet/neumayer/radar/'\n",
    "\n",
    "file_list = sorted(glob.glob('/gws/nopw/j04/tone_ico_gws/cloudnet/neumayer/radar/*.nc'))  # Adjust path\n"
   ]
  },
  {
   "cell_type": "code",
   "execution_count": null,
   "id": "66c80d08",
   "metadata": {},
   "outputs": [],
   "source": [
    "# Example dimensions (adjust as needed)\n",
    "n_days = 365\n",
    "time_dim = 27883     # e.g., 5-minute resolution over 24 hours\n",
    "\n",
    "file_path = '/gws/nopw/j04/tone_ico_gws/cloudnet/neumayer/radar'\n",
    "\n",
    "with nc.Dataset('snowfall_radar.nc', 'w', format='NETCDF4') as ds:\n",
    "    ds.createDimension('day', n_days)\n",
    "    ds.createDimension('time', time_dim)\n",
    "\n",
    "    lower_var = ds.createVariable('lower_bound', 'f4', ('day', 'time'))\n",
    "    upper_var = ds.createVariable('upper_bound', 'f4', ('day', 'time'))\n",
    "\n",
    "    lower_var.units = 'mm/hr'\n",
    "    upper_var.units = 'mm/hr'\n",
    "    ds.description = 'Daily snowfall bounds at surface point from radar reflectivity'\n",
    "\n",
    "    file_path = '/gws/nopw/j04/tone_ico_gws/cloudnet/neumayer/radar/'\n",
    "\n",
    "    file_list = sorted(glob.glob('/gws/nopw/j04/tone_ico_gws/cloudnet/neumayer/radar/*.nc'))  # Adjust path\n",
    "\n",
    "    for day_idx, file in enumerate(file_list):\n",
    "        with nc.Dataset(file) as f:\n",
    "            dbz = np.array(f.variables['Zh'])\n",
    "            dbz[dbz > 1000] = np.nan\n",
    "            z = 10 ** (dbz / 10)\n",
    "\n",
    "            aLower = 11\n",
    "            aHigher = 63\n",
    "            b = 1.1\n",
    "\n",
    "            precipLower = (z / aHigher) ** (1 / b)\n",
    "            precipHigher = (z / aLower) ** (1 / b)\n",
    "\n",
    "            lower_var[day_idx, :] = precipLower\n",
    "            upper_var[day_idx, :] = precipHigher\n",
    "\n",
    "\n",
    "\n"
   ]
  }
 ],
 "metadata": {
  "kernelspec": {
   "display_name": "firstTest",
   "language": "python",
   "name": "firsttest"
  },
  "language_info": {
   "codemirror_mode": {
    "name": "ipython",
    "version": 3
   },
   "file_extension": ".py",
   "mimetype": "text/x-python",
   "name": "python",
   "nbconvert_exporter": "python",
   "pygments_lexer": "ipython3",
   "version": "3.13.3"
  }
 },
 "nbformat": 4,
 "nbformat_minor": 5
}

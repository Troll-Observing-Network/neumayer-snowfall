{
 "cells": [
  {
   "cell_type": "code",
   "execution_count": 1,
   "id": "443d1276",
   "metadata": {},
   "outputs": [],
   "source": [
    "import numpy as np\n",
    "import netCDF4 as nc\n",
    "import glob"
   ]
  },
  {
   "cell_type": "code",
   "execution_count": 2,
   "id": "3b089f20",
   "metadata": {},
   "outputs": [],
   "source": [
    "file_path = '/gws/nopw/j04/tone_ico_gws/cloudnet/neumayer/radar/'\n",
    "\n",
    "file_list = sorted(glob.glob('/gws/nopw/j04/tone_ico_gws/cloudnet/neumayer/radar/*.nc'))  # Adjust path\n"
   ]
  },
  {
   "cell_type": "code",
   "execution_count": 4,
   "id": "66c80d08",
   "metadata": {},
   "outputs": [
    {
     "ename": "KeyboardInterrupt",
     "evalue": "",
     "output_type": "error",
     "traceback": [
      "\u001b[31m---------------------------------------------------------------------------\u001b[39m",
      "\u001b[31mInterruptedError\u001b[39m                          Traceback (most recent call last)",
      "    \u001b[31m[... skipping hidden 1 frame]\u001b[39m\n",
      "\u001b[36mCell\u001b[39m\u001b[36m \u001b[39m\u001b[32mIn[4]\u001b[39m\u001b[32m, line 23\u001b[39m\n\u001b[32m     22\u001b[39m \u001b[38;5;28;01mfor\u001b[39;00m day_idx, file \u001b[38;5;129;01min\u001b[39;00m \u001b[38;5;28menumerate\u001b[39m(file_list):\n\u001b[32m---> \u001b[39m\u001b[32m23\u001b[39m     \u001b[38;5;28;01mwith\u001b[39;00m \u001b[43mnc\u001b[49m\u001b[43m.\u001b[49m\u001b[43mDataset\u001b[49m\u001b[43m(\u001b[49m\u001b[43mfile\u001b[49m\u001b[43m)\u001b[49m \u001b[38;5;28;01mas\u001b[39;00m f:\n\u001b[32m     24\u001b[39m         dbz = np.array(f.variables[\u001b[33m'\u001b[39m\u001b[33mZh\u001b[39m\u001b[33m'\u001b[39m][:, \u001b[32m0\u001b[39m])\n",
      "\u001b[36mFile \u001b[39m\u001b[32msrc/netCDF4/_netCDF4.pyx:2521\u001b[39m, in \u001b[36mnetCDF4._netCDF4.Dataset.__init__\u001b[39m\u001b[34m()\u001b[39m\n",
      "\u001b[36mFile \u001b[39m\u001b[32msrc/netCDF4/_netCDF4.pyx:2158\u001b[39m, in \u001b[36mnetCDF4._netCDF4._ensure_nc_success\u001b[39m\u001b[34m()\u001b[39m\n",
      "\u001b[31mInterruptedError\u001b[39m: [Errno 4] Interrupted system call: '/gws/nopw/j04/tone_ico_gws/cloudnet/neumayer/radar/20230314_neumayer_mira.nc'",
      "\nDuring handling of the above exception, another exception occurred:\n",
      "\u001b[31mKeyboardInterrupt\u001b[39m                         Traceback (most recent call last)",
      "\u001b[36mFile \u001b[39m\u001b[32m~/miniforge3/envs/firstTest/lib/python3.13/site-packages/IPython/core/interactiveshell.py:3693\u001b[39m, in \u001b[36mInteractiveShell.run_code\u001b[39m\u001b[34m(self, code_obj, result, async_)\u001b[39m\n\u001b[32m   3691\u001b[39m \u001b[38;5;28;01mexcept\u001b[39;00m:\n\u001b[32m   3692\u001b[39m     \u001b[38;5;28;01mif\u001b[39;00m result \u001b[38;5;129;01mis\u001b[39;00m \u001b[38;5;129;01mnot\u001b[39;00m \u001b[38;5;28;01mNone\u001b[39;00m:\n\u001b[32m-> \u001b[39m\u001b[32m3693\u001b[39m         result.error_in_exec = \u001b[43msys\u001b[49m\u001b[43m.\u001b[49m\u001b[43mexc_info\u001b[49m\u001b[43m(\u001b[49m\u001b[43m)\u001b[49m[\u001b[32m1\u001b[39m]\n\u001b[32m   3694\u001b[39m     \u001b[38;5;28mself\u001b[39m.showtraceback(running_compiled_code=\u001b[38;5;28;01mTrue\u001b[39;00m)\n\u001b[32m   3695\u001b[39m \u001b[38;5;28;01melse\u001b[39;00m:\n",
      "\u001b[31mKeyboardInterrupt\u001b[39m: "
     ]
    }
   ],
   "source": [
    "# Example dimensions (adjust as needed)\n",
    "n_days = 365\n",
    "uniform_time_dim = 2879     # e.g., 5-minute resolution over 24 hours\n",
    "\n",
    "file_path = '/gws/nopw/j04/tone_ico_gws/cloudnet/neumayer/radar'\n",
    "\n",
    "with nc.Dataset('snowfall_radar.nc', 'w', format='NETCDF4') as ds:\n",
    "    ds.createDimension('day', n_days)\n",
    "    ds.createDimension('time', uniform_time_dim)\n",
    "\n",
    "    lower_var = ds.createVariable('lower_bound', 'f4', ('day', 'time'), zlib=True)\n",
    "    upper_var = ds.createVariable('upper_bound', 'f4', ('day', 'time'), zlib=True)\n",
    "\n",
    "    lower_var.units = 'mm/hr'\n",
    "    upper_var.units = 'mm/hr'\n",
    "    ds.description = 'Daily snowfall bounds at surface point from radar reflectivity'\n",
    "\n",
    "    file_path = '/gws/nopw/j04/tone_ico_gws/cloudnet/neumayer/radar/'\n",
    "\n",
    "    file_list = sorted(glob.glob('/gws/nopw/j04/tone_ico_gws/cloudnet/neumayer/radar/*.nc'))  # Adjust path\n",
    "\n",
    "    for day_idx, file in enumerate(file_list):\n",
    "        with nc.Dataset(file) as f:\n",
    "            dbz = np.array(f.variables['Zh'][:, 0])\n",
    "            dbz[dbz > 1000] = np.nan\n",
    "            z = 10 ** (dbz / 10)\n",
    "\n",
    "            aLower = 11\n",
    "            aHigher = 63\n",
    "            b = 1.1\n",
    "\n",
    "            native_time = dbz.shape[0]\n",
    "\n",
    "            precipLower_native = (z / aHigher) ** (1 / b)\n",
    "            precipHigher_native = (z / aLower) ** (1 / b)\n",
    "\n",
    "\n",
    "            lower_resampled = np.interp(np.arange(0, uniform_time_dim), np.arange(0, native_time), precipLower_native)\n",
    "            upper_resampled = np.interp(np.arange(0, uniform_time_dim), np.arange(0, native_time), precipHigher_native)\n",
    "\n",
    "\n",
    "            lower_var[day_idx, :] = lower_resampled\n",
    "            upper_var[day_idx, :] = upper_resampled\n",
    "\n",
    "\n",
    "\n"
   ]
  }
 ],
 "metadata": {
  "kernelspec": {
   "display_name": "firstTest",
   "language": "python",
   "name": "firsttest"
  },
  "language_info": {
   "codemirror_mode": {
    "name": "ipython",
    "version": 3
   },
   "file_extension": ".py",
   "mimetype": "text/x-python",
   "name": "python",
   "nbconvert_exporter": "python",
   "pygments_lexer": "ipython3",
   "version": "3.13.3"
  }
 },
 "nbformat": 4,
 "nbformat_minor": 5
}

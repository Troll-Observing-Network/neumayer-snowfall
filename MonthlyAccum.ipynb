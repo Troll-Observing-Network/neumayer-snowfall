{
 "cells": [
  {
   "cell_type": "code",
   "execution_count": 1,
   "id": "8f7d3335",
   "metadata": {},
   "outputs": [],
   "source": [
    "import numpy as np\n",
    "import netCDF4 as nc\n",
    "import glob\n",
    "import matplotlib.pyplot as plt\n",
    "import re\n",
    "import pandas as pd\n",
    "from datetime import datetime\n",
    "from sklearn.metrics import mean_absolute_error, mean_squared_error, r2_score"
   ]
  },
  {
   "cell_type": "code",
   "execution_count": 2,
   "id": "1b849bbd",
   "metadata": {},
   "outputs": [],
   "source": [
    "file_path = '/gws/nopw/j04/tone_ico_gws/cloudnet/neumayer/radar/'\n",
    "\n",
    "file_list = sorted(glob.glob('/gws/nopw/j04/tone_ico_gws/cloudnet/neumayer/radar/2023*.nc'))  # Adjust path based on month\n"
   ]
  },
  {
   "cell_type": "code",
   "execution_count": null,
   "id": "044edae2",
   "metadata": {},
   "outputs": [
    {
     "name": "stderr",
     "output_type": "stream",
     "text": [
      "/tmp/ipykernel_4186618/60221649.py:23: DeprecationWarning: `trapz` is deprecated. Use `trapezoid` instead, or one of the numerical integration functions in `scipy.integrate`.\n",
      "  radarAccum = np.trapz(precip[~np.isnan(precip)], dx=24/len(precip))\n",
      "/tmp/ipykernel_4186618/60221649.py:24: DeprecationWarning: `trapz` is deprecated. Use `trapezoid` instead, or one of the numerical integration functions in `scipy.integrate`.\n",
      "  radarAccumHigh = np.trapz(precipHigh[~np.isnan(precipHigh)], dx=24/len(precipHigh))\n",
      "/tmp/ipykernel_4186618/60221649.py:25: DeprecationWarning: `trapz` is deprecated. Use `trapezoid` instead, or one of the numerical integration functions in `scipy.integrate`.\n",
      "  radarAccumLow = np.trapz(precipLow[~np.isnan(precipLow)], dx=24/len(precipLow))\n"
     ]
    },
    {
     "name": "stdout",
     "output_type": "stream",
     "text": [
      "0\n"
     ]
    }
   ],
   "source": [
    "mmdd_list = []\n",
    "radarAccum_list = []\n",
    "radarAccumUpp_list = []\n",
    "radarAccumLow_list = []\n",
    "\n",
    "i = 0\n",
    "for file in file_list[:]:\n",
    "    dayFile = nc.Dataset(file)\n",
    "\n",
    "    dbz = np.array(dayFile.variables['Zh'][:, 0])\n",
    "    dbz[dbz > 1000] = np.nan\n",
    "    z = 10 ** (dbz / 10)\n",
    "\n",
    "    a = 18\n",
    "    b = 1.1\n",
    "    aLow = 11\n",
    "    aHigh = 43\n",
    "\n",
    "    precip = (z / a) ** (1 / b)\n",
    "    precipLow = (z / aHigh) ** (1 / b)\n",
    "    precipHigh = (z / aLow) ** (1 / b)\n",
    "\n",
    "    radarAccum = np.trapz(precip[~np.isnan(precip)], dx=24/len(precip))\n",
    "    radarAccumHigh = np.trapz(precipHigh[~np.isnan(precipHigh)], dx=24/len(precipHigh))\n",
    "    radarAccumLow = np.trapz(precipLow[~np.isnan(precipLow)], dx=24/len(precipLow))\n",
    "    \n",
    "    # Regular expression to find MMDD after '2023'\n",
    "    match = re.search(r'/2023(\\d{4})', file)\n",
    "    mmdd = match.group(1)\n",
    "\n",
    "    mmdd_list.append(mmdd)\n",
    "    radarAccum_list.append(radarAccum)\n",
    "    radarAccumUpp_list.append(radarAccumHigh)\n",
    "    radarAccumLow_list.append(radarAccumLow)\n",
    "    if i % 10 == 0:\n",
    "        print(i)\n",
    "    i = i + 1\n",
    "\n",
    "\n"
   ]
  },
  {
   "cell_type": "code",
   "execution_count": null,
   "id": "c42dca85",
   "metadata": {},
   "outputs": [],
   "source": [
    "df = pd.DataFrame({'mmdd': mmdd_list, 'radarAccum': radarAccum_list})\n",
    "df.to_csv('accumulation_by_day.csv', index=False)"
   ]
  },
  {
   "cell_type": "code",
   "execution_count": null,
   "id": "78719192",
   "metadata": {},
   "outputs": [],
   "source": [
    "# [:, 0] is radar\n",
    "# 1 is disdrometer\n",
    "# 2, 3 are era5 lower and upper bounds\n",
    "allAccum = np.empty([365, 4])\n",
    "allAccum[:, :] = np.nan"
   ]
  },
  {
   "cell_type": "code",
   "execution_count": null,
   "id": "66d62d9c",
   "metadata": {},
   "outputs": [],
   "source": [
    "radarAccumArr = np.array(radarAccum_list)\n",
    "mmddArr = np.array(mmdd_list)\n",
    "\n",
    "for i in range(len(mmddArr)):\n",
    "    date_obj = datetime.strptime('2023' + mmddArr[i], '%Y%m%d')\n",
    "    day_of_year_idx = date_obj.timetuple().tm_yday - 1  # 0-based indexing\n",
    "\n",
    "    allAccum[day_of_year_idx, 0] = radarAccumArr[i]"
   ]
  },
  {
   "cell_type": "code",
   "execution_count": null,
   "id": "bea60e28",
   "metadata": {},
   "outputs": [],
   "source": [
    "print(np.sum(radarAccumArr))"
   ]
  },
  {
   "cell_type": "code",
   "execution_count": null,
   "id": "e7b77823",
   "metadata": {},
   "outputs": [],
   "source": [
    "dis_file_path = '/gws/nopw/j04/tone_ico_gws/cloudnet/neumayer/disdrometer/'\n",
    "\n",
    "dis_file_list = sorted(glob.glob('/gws/nopw/j04/tone_ico_gws/cloudnet/neumayer/disdrometer/2023*.nc'))  # Adjust path based on month\n",
    "\n",
    "dis_mmdd_list = []\n",
    "disAccum_list = []\n",
    "\n",
    "for dis_file in dis_file_list:\n",
    "    dayFile = nc.Dataset(dis_file)\n",
    "\n",
    "    rainRate = np.array(dayFile.variables['rainfall_rate']) * 1000 * 60 * 60 # time units\n",
    "    snowRate = (rainRate ** 1.9) * 0.03344 # Matrosov et al (2022) mass size relation\n",
    "\n",
    "    disdAccum = np.trapz(snowRate, dx=24/len(snowRate))\n",
    "    \n",
    "    # Regular expression to find MMDD after '2023'\n",
    "    match = re.search(r'/2023(\\d{4})', dis_file)\n",
    "    mmdd = match.group(1)\n",
    "\n",
    "    dis_mmdd_list.append(mmdd)\n",
    "    disAccum_list.append(disdAccum)\n",
    "\n",
    "\n"
   ]
  },
  {
   "cell_type": "code",
   "execution_count": null,
   "id": "85b7ca74",
   "metadata": {},
   "outputs": [],
   "source": [
    "disdf = pd.DataFrame({'mmdd': dis_mmdd_list, 'disAccum': disAccum_list})\n",
    "disdf.to_csv('disdrometer_accumulation_by_day.csv', index=False)"
   ]
  },
  {
   "cell_type": "code",
   "execution_count": null,
   "id": "84a68c84",
   "metadata": {},
   "outputs": [],
   "source": [
    "disAccumArr = np.array(disAccum_list)\n",
    "dismmddArr = np.array(dis_mmdd_list)\n",
    "\n",
    "for i in range(len(dismmddArr)):\n",
    "    date_obj = datetime.strptime('2023' + dismmddArr[i], '%Y%m%d')\n",
    "    day_of_year_idx = date_obj.timetuple().tm_yday - 1  # 0-based indexing\n",
    "\n",
    "    allAccum[day_of_year_idx, 1] = disAccumArr[i]"
   ]
  },
  {
   "cell_type": "code",
   "execution_count": null,
   "id": "3c81e911",
   "metadata": {},
   "outputs": [],
   "source": [
    "print(np.sum(disAccumArr))"
   ]
  },
  {
   "cell_type": "code",
   "execution_count": null,
   "id": "8909cdff",
   "metadata": {},
   "outputs": [],
   "source": [
    "plt.scatter(allAccum[:, 0], allAccum[:, 1])\n",
    "plt.ylim(0, 30)\n",
    "plt.title(\"Radar vs Disdrometer, Disdrometer y limits\")"
   ]
  },
  {
   "cell_type": "code",
   "execution_count": null,
   "id": "7e36c504",
   "metadata": {},
   "outputs": [],
   "source": [
    "plt.scatter(allAccum[:, 0], allAccum[:, 1])\n",
    "plt.title(\"Radar vs Disdrometer, no limits\")"
   ]
  },
  {
   "cell_type": "code",
   "execution_count": null,
   "id": "72ba84a0",
   "metadata": {},
   "outputs": [],
   "source": [
    "#file_path = '/gws/nopw/j04/tone_ico_gws/cloudnet/neumayer/radar/20230426_neumayer_mira.nc'\n",
    "modfile_path = '/gws/nopw/j04/tone_ico_gws/cloudnet/neumayer/era_precip/a5fe22a8557d37e66a32d5412c5f2411.nc'\n",
    "model = nc.Dataset(modfile_path)\n",
    "\n",
    "# Coords of Neumayer III\n",
    "minMod = np.array(model.variables['mntpr'][:, 23, 87]) * 60 * 60\n",
    "maxMod = np.array(model.variables['mxtpr'][:, 23, 87]) * 60 * 60\n",
    "\n",
    "print(model)"
   ]
  },
  {
   "cell_type": "code",
   "execution_count": null,
   "id": "ec677b4f",
   "metadata": {},
   "outputs": [],
   "source": [
    "eraUpperAccum = np.trapz(maxMod)\n",
    "eraLowerAccum = np.trapz(minMod)\n",
    "\n",
    "print(eraUpperAccum)\n",
    "print(eraLowerAccum)"
   ]
  },
  {
   "cell_type": "code",
   "execution_count": null,
   "id": "c89489d8",
   "metadata": {},
   "outputs": [],
   "source": [
    "accum_daily_low = np.sum(minMod.reshape(365, 24), axis=1)\n",
    "accum_daily_high = np.sum(maxMod.reshape(365, 24), axis=1)\n"
   ]
  },
  {
   "cell_type": "code",
   "execution_count": null,
   "id": "907f469c",
   "metadata": {},
   "outputs": [],
   "source": [
    "dates = np.arange('2023-01-01', '2024-01-01', dtype='datetime64[D]')\n",
    "plt.plot(dates, allAccum[:, 0], label='radar')\n",
    "#plt.plot(dates, allAccum[:, 1], label='disdrometer')\n",
    "plt.plot(dates, accum_daily_low, label='era5 lower')\n",
    "plt.plot(dates, accum_daily_high, label='era5 upper')\n",
    "\n",
    "\n",
    "plt.legend()\n"
   ]
  },
  {
   "cell_type": "code",
   "execution_count": null,
   "id": "a4e94ca6",
   "metadata": {},
   "outputs": [],
   "source": [
    "dates = np.arange('2023-01-01', '2024-01-01', dtype='datetime64[D]')\n",
    "plt.plot(dates, allAccum[:, 0], label='radar')\n",
    "#plt.plot(dates, allAccum[:, 1], label='disdrometer')\n",
    "plt.plot(dates, accum_daily_low, label='era5 lower')\n",
    "plt.plot(dates, accum_daily_high, label='era5 upper')\n",
    "\n",
    "plt.legend()\n"
   ]
  },
  {
   "cell_type": "code",
   "execution_count": null,
   "id": "ba33e3d7",
   "metadata": {},
   "outputs": [],
   "source": [
    "plt.scatter(allAccum[:, 0], accum_daily_high)\n",
    "plt.ylabel('era5')\n",
    "plt.xlabel('radar')\n",
    "plt.plot(np.arange(0, 30), np.arange(0, 30), c='green')\n",
    "#plt.gca().set_xscale(\"log\")\n",
    "#plt.gca().set_yscale(\"log\")\n",
    "\n",
    "plt.title(\"Radar (A=18) vs ERA5\")"
   ]
  },
  {
   "cell_type": "code",
   "execution_count": null,
   "id": "bc051110",
   "metadata": {},
   "outputs": [],
   "source": [
    "plt.scatter(allAccum[:, 0], accum_daily_high)\n",
    "plt.ylabel('era5')\n",
    "plt.xlabel('radar')\n",
    "plt.xlim(0, 5)\n",
    "plt.ylim(0, 5)\n",
    "plt.plot(np.arange(0, 30), np.arange(0, 30), c='green')\n",
    "plt.title(\"Radar vs ERA5\")"
   ]
  },
  {
   "cell_type": "code",
   "execution_count": null,
   "id": "3f8983c4",
   "metadata": {},
   "outputs": [],
   "source": [
    "plt.scatter(allAccum[:, 1], accum_daily_high)\n",
    "plt.ylabel('era5')\n",
    "plt.xlabel('disdrometer')\n",
    "plt.xlim(0, 5)\n",
    "plt.ylim(0, 5)\n",
    "plt.plot(np.arange(0, 30), np.arange(0, 30), c='green')\n",
    "plt.title(\"Disdrometer vs ERA5\")"
   ]
  },
  {
   "cell_type": "code",
   "execution_count": null,
   "id": "b601630b",
   "metadata": {},
   "outputs": [],
   "source": [
    "plt.scatter(allAccum[:, 0], allAccum[:, 1])\n",
    "plt.ylabel('disdrometer')\n",
    "plt.xlabel('radar')\n",
    "plt.xlim(0, 5)\n",
    "plt.ylim(0, 5)\n",
    "plt.plot(np.arange(0, 30), np.arange(0, 30), c='green')\n",
    "plt.title(\"Disdrometer vs Radar\")"
   ]
  },
  {
   "cell_type": "code",
   "execution_count": null,
   "id": "d5ab9d47",
   "metadata": {},
   "outputs": [],
   "source": [
    "datesPD = pd.date_range('2023-01-01', periods=365, freq='D')\n",
    "\n",
    "mmdd_new = datesPD.strftime('%m%d')\n",
    "\n",
    "# Build the DataFrame\n",
    "df = pd.DataFrame({\n",
    "    'mmdd': mmdd_new,\n",
    "    'accum': accum_daily_low\n",
    "})\n",
    "\n",
    "\n",
    "# Save to CSV\n",
    "df.to_csv('era5_accumulation_low.csv', index=False)"
   ]
  },
  {
   "cell_type": "code",
   "execution_count": null,
   "id": "7cffb0df",
   "metadata": {},
   "outputs": [],
   "source": [
    "print(\"Radar Accumulation: \" + str(np.sum(radarAccumArr)) + \" mm\")\n",
    "print(\"Disdrometer Accumulation: \" + str(np.sum(disAccumArr)) + \" mm\")\n",
    "print(\"ERA5 Accumulation Lower: \" + str(eraLowerAccum) + \" mm\")\n",
    "print(\"ERA5 Accumulation Upper: \" + str(eraUpperAccum) + \" mm\")"
   ]
  },
  {
   "cell_type": "code",
   "execution_count": null,
   "id": "2e2ea804",
   "metadata": {},
   "outputs": [],
   "source": [
    "# An apples-to-apples: only days when there's radar data\n",
    "\n",
    "eraUpperApp = np.trapz(accum_daily_high[~np.isnan(allAccum[:, 0])])\n",
    "eraLowerApp = np.trapz(accum_daily_low[~np.isnan(allAccum[:, 0])])\n",
    "\n",
    "print(\"ERA5 Accumulation Lower: \" + str(eraLowerApp) + \" mm\")\n",
    "print(\"ERA5 Accumulation Upper: \" + str(eraUpperApp) + \" mm\")"
   ]
  },
  {
   "cell_type": "code",
   "execution_count": null,
   "id": "a1e18343",
   "metadata": {},
   "outputs": [],
   "source": [
    "# cross plots with hex bin - adds an intensity color for point density\n",
    "\n",
    "plt.hexbin(allAccum[:, 0], accum_daily_high, gridsize=15, bins='log')\n",
    "plt.xlabel('Radar')\n",
    "plt.ylabel('ERA5')"
   ]
  },
  {
   "cell_type": "code",
   "execution_count": null,
   "id": "d7fc018c",
   "metadata": {},
   "outputs": [],
   "source": [
    "dates = np.arange('2023-01-01', '2024-01-01', dtype='datetime64[D]')\n",
    "plt.figure(figsize=(20, 10))\n",
    "plt.plot(dates, allAccum[:, 0], label='radar (A=18)')\n",
    "#plt.plot(dates, allAccum[:, 1], label='disdrometer')\n",
    "plt.plot(dates, (accum_daily_low+accum_daily_high)/2, label='ERA5')\n",
    "plt.ylabel(\"Daily snow accumulation (mm)\")\n",
    "#plt.plot(dates, accum_daily_high, label='era5 upper')\n",
    "\n",
    "\n",
    "plt.legend()\n"
   ]
  },
  {
   "cell_type": "code",
   "execution_count": null,
   "id": "ab11afe2",
   "metadata": {},
   "outputs": [],
   "source": [
    "import seaborn as sns\n",
    "\n",
    "data = [allAccum[:, 0], (accum_daily_low+accum_daily_high)/2]\n",
    "\n",
    "sns.violinplot(data=data)\n",
    "plt.xticks([0, 1], ['Radar', 'ERA5'])\n",
    "plt.title(\"Violin Plot\")\n",
    "plt.ylabel(\"Daily accumulation\")\n",
    "plt.show()"
   ]
  },
  {
   "cell_type": "code",
   "execution_count": null,
   "id": "a0b6d159",
   "metadata": {},
   "outputs": [],
   "source": [
    "a = allAccum[:, 0]\n",
    "b = (accum_daily_low+accum_daily_high)/2\n",
    "data = [a[np.where(a < 1)], b[np.where(b < 1)]]\n",
    "\n",
    "sns.violinplot(data=data)\n",
    "plt.xticks([0, 1], ['Radar', 'ERA5'])\n",
    "plt.title(\"Violin Plot, days < 1 mm\")\n",
    "plt.ylabel(\"Daily accumulation\")\n",
    "plt.show()"
   ]
  },
  {
   "cell_type": "code",
   "execution_count": null,
   "id": "06151c1e",
   "metadata": {},
   "outputs": [],
   "source": [
    "a = allAccum[:, 0]\n",
    "b = (accum_daily_low+accum_daily_high)/2\n",
    "data = [a[np.where(a > 1)], b[np.where(b > 1)]]\n",
    "\n",
    "sns.violinplot(data=data)\n",
    "plt.xticks([0, 1], ['Radar', 'ERA5'])\n",
    "plt.title(\"Violin Plot, days > 1 mm\")\n",
    "plt.ylabel(\"Daily accumulation\")\n",
    "plt.show()"
   ]
  },
  {
   "cell_type": "code",
   "execution_count": null,
   "id": "1eed0b95",
   "metadata": {},
   "outputs": [],
   "source": [
    "newMask = ~np.isnan(a) & ~np.isnan(b)\n",
    "\n",
    "# Step 2: Apply mask to get valid pairs\n",
    "a_valid = a[newMask]\n",
    "b_valid = b[newMask]\n",
    "\n",
    "# Step 3: Compute metrics\n",
    "mae = mean_absolute_error(a_valid, b_valid)\n",
    "mse = mean_squared_error(a_valid, b_valid)\n",
    "rmse = np.sqrt(mse)\n",
    "bias = np.mean(a_valid - b_valid)\n",
    "corr = np.corrcoef(a_valid, b_valid)[0, 1]\n",
    "r2 = r2_score(a_valid, b_valid)\n",
    "\n",
    "# Step 4: Print results\n",
    "print(\"Comparison Metrics:\")\n",
    "print(f\"  MAE : {mae:.3f}\")\n",
    "print(f\"  RMSE: {rmse:.3f}\")\n",
    "print(f\"  Bias: {bias:.3f}\")\n",
    "print(f\"  Corr: {corr:.3f}\")\n",
    "print(f\"  R²  : {r2:.3f}\")"
   ]
  },
  {
   "cell_type": "code",
   "execution_count": 3,
   "id": "a12e4fb5",
   "metadata": {},
   "outputs": [],
   "source": [
    "data = np.genfromtxt('accumulation_by_day.csv', delimiter=',', skip_header=1)\n",
    "\n",
    "mmdd = data[:, 0].astype(int)\n",
    "radarAccum = data[:, 1]"
   ]
  },
  {
   "cell_type": "code",
   "execution_count": 31,
   "id": "b713ae02",
   "metadata": {},
   "outputs": [],
   "source": [
    "df1 = pd.read_csv('accumulation_by_day.csv')\n",
    "df2 = pd.read_csv('accumulation_sued_cleaned_interpolated.csv')\n",
    "\n",
    "df2['date'] = pd.to_datetime(df2['date'])\n",
    "\n",
    "df2_2023 = df2[df2['date'].dt.year == 2023]\n",
    "\n",
    "dates1 = df1['mmdd'].values  # NumPy array of datetime64[ns]\n",
    "radarAccum = df1['radarAccum'].values\n",
    "\n",
    "dates2 = df2_2023['date'].values\n",
    "cumulative_accumStake = (df2_2023['cumulative_accumulation'].values - 3176.7) * 10"
   ]
  },
  {
   "cell_type": "code",
   "execution_count": 32,
   "id": "a5f243c9",
   "metadata": {},
   "outputs": [
    {
     "name": "stderr",
     "output_type": "stream",
     "text": [
      "/tmp/ipykernel_4187467/2013174266.py:6: FutureWarning: 'M' is deprecated and will be removed in a future version, please use 'ME' instead.\n",
      "  radarAccum_cumulative = df1_cp['radarAccum'].resample('M').sum()\n"
     ]
    }
   ],
   "source": [
    "df1_cp = pd.read_csv('accumulation_by_day.csv')\n",
    "df1_cp['date'] = pd.to_datetime('2023' + df1_cp['mmdd'].astype(str).str.zfill(4), format='%Y%m%d')\n",
    "df1_cp = df1_cp.set_index('date')\n",
    "\n",
    "# Group by month and sum\n",
    "radarAccum_cumulative = df1_cp['radarAccum'].resample('M').sum()"
   ]
  },
  {
   "cell_type": "code",
   "execution_count": 33,
   "id": "cbe52685",
   "metadata": {},
   "outputs": [],
   "source": [
    "cumulative_radarAccum = radarAccum_cumulative.cumsum()"
   ]
  },
  {
   "cell_type": "code",
   "execution_count": 46,
   "id": "e1b61e4b",
   "metadata": {},
   "outputs": [
    {
     "name": "stderr",
     "output_type": "stream",
     "text": [
      "/tmp/ipykernel_4187467/3031568167.py:1: FutureWarning: Series.__getitem__ treating keys as positions is deprecated. In a future version, integer keys will always be treated as labels (consistent with DataFrame behavior). To access a value by position, use `ser.iloc[pos]`\n",
      "  finalRadarAccum_mid = np.array(cumulative_radarAccum-cumulative_radarAccum[0])\n",
      "/tmp/ipykernel_4187467/3031568167.py:2: FutureWarning: Series.__getitem__ treating keys as positions is deprecated. In a future version, integer keys will always be treated as labels (consistent with DataFrame behavior). To access a value by position, use `ser.iloc[pos]`\n",
      "  finalRadarAccum_high = np.array(cumulative_radarAccum-cumulative_radarAccum[0]) * 1.565\n",
      "/tmp/ipykernel_4187467/3031568167.py:3: FutureWarning: Series.__getitem__ treating keys as positions is deprecated. In a future version, integer keys will always be treated as labels (consistent with DataFrame behavior). To access a value by position, use `ser.iloc[pos]`\n",
      "  finalRadarAccum_low = np.array(cumulative_radarAccum-cumulative_radarAccum[0]) * 0.453\n"
     ]
    }
   ],
   "source": [
    "finalRadarAccum_mid = np.array(cumulative_radarAccum-cumulative_radarAccum[0])\n",
    "finalRadarAccum_high = np.array(cumulative_radarAccum-cumulative_radarAccum[0]) * 1.565\n",
    "finalRadarAccum_low = np.array(cumulative_radarAccum-cumulative_radarAccum[0]) * 0.453"
   ]
  },
  {
   "cell_type": "code",
   "execution_count": 48,
   "id": "0fd4506b",
   "metadata": {},
   "outputs": [],
   "source": [
    "finalStake = np.array(cumulative_accumStake-cumulative_accumStake[0])"
   ]
  },
  {
   "cell_type": "code",
   "execution_count": 50,
   "id": "2b6855a0",
   "metadata": {},
   "outputs": [
    {
     "name": "stderr",
     "output_type": "stream",
     "text": [
      "/tmp/ipykernel_4187467/2213756620.py:10: FutureWarning: 'M' is deprecated and will be removed in a future version, please use 'ME' instead.\n",
      "  era5High_cumulative = df3['accum'].resample('M').sum()\n",
      "/tmp/ipykernel_4187467/2213756620.py:11: FutureWarning: 'M' is deprecated and will be removed in a future version, please use 'ME' instead.\n",
      "  era5Low_cumulative = df4['accum'].resample('M').sum()\n",
      "/tmp/ipykernel_4187467/2213756620.py:16: FutureWarning: Series.__getitem__ treating keys as positions is deprecated. In a future version, integer keys will always be treated as labels (consistent with DataFrame behavior). To access a value by position, use `ser.iloc[pos]`\n",
      "  finalEraHigh = np.array(cumulative_eraHigh-cumulative_eraHigh[0])\n",
      "/tmp/ipykernel_4187467/2213756620.py:17: FutureWarning: Series.__getitem__ treating keys as positions is deprecated. In a future version, integer keys will always be treated as labels (consistent with DataFrame behavior). To access a value by position, use `ser.iloc[pos]`\n",
      "  finalEraLow = np.array(cumulative_eraLow-cumulative_eraLow[0])\n"
     ]
    }
   ],
   "source": [
    "df3 = pd.read_csv('era5_accumulation_high.csv')\n",
    "df3['date'] = pd.to_datetime('2023' + df3['mmdd'].astype(str).str.zfill(4), format='%Y%m%d')\n",
    "df3 = df3.set_index('date')\n",
    "\n",
    "df4 = pd.read_csv('era5_accumulation_low.csv')\n",
    "df4['date'] = pd.to_datetime('2023' + df4['mmdd'].astype(str).str.zfill(4), format='%Y%m%d')\n",
    "df4 = df4.set_index('date')\n",
    "\n",
    "# Group by month and sum\n",
    "era5High_cumulative = df3['accum'].resample('M').sum()\n",
    "era5Low_cumulative = df4['accum'].resample('M').sum()\n",
    "\n",
    "cumulative_eraHigh = era5High_cumulative.cumsum()\n",
    "cumulative_eraLow = era5Low_cumulative.cumsum()\n",
    "\n",
    "finalEraHigh = np.array(cumulative_eraHigh-cumulative_eraHigh[0])\n",
    "finalEraLow = np.array(cumulative_eraLow-cumulative_eraLow[0])"
   ]
  },
  {
   "cell_type": "code",
   "execution_count": 52,
   "id": "926fef65",
   "metadata": {},
   "outputs": [
    {
     "name": "stdout",
     "output_type": "stream",
     "text": [
      "[  0.           3.84135249  53.08885491 176.4691818  212.76483508\n",
      " 312.88247049 364.4748681  398.98867507 453.51219088 608.17565935\n",
      " 654.93106859 677.09770196]\n"
     ]
    }
   ],
   "source": [
    "print(finalEraLow)"
   ]
  }
 ],
 "metadata": {
  "kernelspec": {
   "display_name": "firstTest",
   "language": "python",
   "name": "python3"
  },
  "language_info": {
   "codemirror_mode": {
    "name": "ipython",
    "version": 3
   },
   "file_extension": ".py",
   "mimetype": "text/x-python",
   "name": "python",
   "nbconvert_exporter": "python",
   "pygments_lexer": "ipython3",
   "version": "3.13.3"
  }
 },
 "nbformat": 4,
 "nbformat_minor": 5
}

{
 "cells": [
  {
   "cell_type": "code",
   "execution_count": 14,
   "id": "8f7d3335",
   "metadata": {},
   "outputs": [],
   "source": [
    "import numpy as np\n",
    "import netCDF4 as nc\n",
    "import glob\n",
    "import matplotlib.pyplot as plt\n",
    "import re\n",
    "import pandas as pd"
   ]
  },
  {
   "cell_type": "code",
   "execution_count": 15,
   "id": "1b849bbd",
   "metadata": {},
   "outputs": [],
   "source": [
    "file_path = '/gws/nopw/j04/tone_ico_gws/cloudnet/neumayer/radar/'\n",
    "\n",
    "file_list = sorted(glob.glob('/gws/nopw/j04/tone_ico_gws/cloudnet/neumayer/radar/2023*.nc'))  # Adjust path based on month\n"
   ]
  },
  {
   "cell_type": "code",
   "execution_count": 16,
   "id": "044edae2",
   "metadata": {},
   "outputs": [
    {
     "name": "stderr",
     "output_type": "stream",
     "text": [
      "/tmp/ipykernel_2432398/2987545486.py:16: DeprecationWarning: `trapz` is deprecated. Use `trapezoid` instead, or one of the numerical integration functions in `scipy.integrate`.\n",
      "  radarAccum = np.trapz(precip[~np.isnan(precip)], dx=24/len(precip))\n"
     ]
    }
   ],
   "source": [
    "mmdd_list = []\n",
    "radarAccum_list = []\n",
    "\n",
    "for file in file_list:\n",
    "    dayFile = nc.Dataset(file)\n",
    "\n",
    "    dbz = np.array(dayFile.variables['Zh'][:, 0])\n",
    "    dbz[dbz > 1000] = np.nan\n",
    "    z = 10 ** (dbz / 10)\n",
    "\n",
    "    a = 18\n",
    "    b = 1.1\n",
    "\n",
    "    precip = (z / a) ** (1 / b)\n",
    "\n",
    "    radarAccum = np.trapz(precip[~np.isnan(precip)], dx=24/len(precip))\n",
    "    \n",
    "    # Regular expression to find MMDD after '2023'\n",
    "    match = re.search(r'/2023(\\d{4})', file)\n",
    "    mmdd = match.group(1)\n",
    "\n",
    "    mmdd_list.append(mmdd)\n",
    "    radarAccum_list.append(radarAccum)\n",
    "\n",
    "\n"
   ]
  },
  {
   "cell_type": "code",
   "execution_count": 17,
   "id": "c42dca85",
   "metadata": {},
   "outputs": [],
   "source": [
    "df = pd.DataFrame({'mmdd': mmdd_list, 'radarAccum': radarAccum_list})\n",
    "df.to_csv('accumulation_by_day.csv', index=False)"
   ]
  }
 ],
 "metadata": {
  "kernelspec": {
   "display_name": "firstTest",
   "language": "python",
   "name": "python3"
  },
  "language_info": {
   "codemirror_mode": {
    "name": "ipython",
    "version": 3
   },
   "file_extension": ".py",
   "mimetype": "text/x-python",
   "name": "python",
   "nbconvert_exporter": "python",
   "pygments_lexer": "ipython3",
   "version": "3.13.3"
  }
 },
 "nbformat": 4,
 "nbformat_minor": 5
}

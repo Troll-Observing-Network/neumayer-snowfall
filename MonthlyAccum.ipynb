{
 "cells": [
  {
   "cell_type": "code",
   "execution_count": 25,
   "id": "8f7d3335",
   "metadata": {},
   "outputs": [],
   "source": [
    "import numpy as np\n",
    "import netCDF4 as nc\n",
    "import glob\n",
    "import matplotlib.pyplot as plt\n",
    "import re\n",
    "import pandas as pd\n",
    "from datetime import datetime"
   ]
  },
  {
   "cell_type": "code",
   "execution_count": 15,
   "id": "1b849bbd",
   "metadata": {},
   "outputs": [],
   "source": [
    "file_path = '/gws/nopw/j04/tone_ico_gws/cloudnet/neumayer/radar/'\n",
    "\n",
    "file_list = sorted(glob.glob('/gws/nopw/j04/tone_ico_gws/cloudnet/neumayer/radar/2023*.nc'))  # Adjust path based on month\n"
   ]
  },
  {
   "cell_type": "code",
   "execution_count": 16,
   "id": "044edae2",
   "metadata": {},
   "outputs": [
    {
     "name": "stderr",
     "output_type": "stream",
     "text": [
      "/tmp/ipykernel_2432398/2987545486.py:16: DeprecationWarning: `trapz` is deprecated. Use `trapezoid` instead, or one of the numerical integration functions in `scipy.integrate`.\n",
      "  radarAccum = np.trapz(precip[~np.isnan(precip)], dx=24/len(precip))\n"
     ]
    }
   ],
   "source": [
    "mmdd_list = []\n",
    "radarAccum_list = []\n",
    "\n",
    "for file in file_list:\n",
    "    dayFile = nc.Dataset(file)\n",
    "\n",
    "    dbz = np.array(dayFile.variables['Zh'][:, 0])\n",
    "    dbz[dbz > 1000] = np.nan\n",
    "    z = 10 ** (dbz / 10)\n",
    "\n",
    "    a = 18\n",
    "    b = 1.1\n",
    "\n",
    "    precip = (z / a) ** (1 / b)\n",
    "\n",
    "    radarAccum = np.trapz(precip[~np.isnan(precip)], dx=24/len(precip))\n",
    "    \n",
    "    # Regular expression to find MMDD after '2023'\n",
    "    match = re.search(r'/2023(\\d{4})', file)\n",
    "    mmdd = match.group(1)\n",
    "\n",
    "    mmdd_list.append(mmdd)\n",
    "    radarAccum_list.append(radarAccum)\n",
    "\n",
    "\n"
   ]
  },
  {
   "cell_type": "code",
   "execution_count": 17,
   "id": "c42dca85",
   "metadata": {},
   "outputs": [],
   "source": [
    "df = pd.DataFrame({'mmdd': mmdd_list, 'radarAccum': radarAccum_list})\n",
    "df.to_csv('accumulation_by_day.csv', index=False)"
   ]
  },
  {
   "cell_type": "code",
   "execution_count": null,
   "id": "78719192",
   "metadata": {},
   "outputs": [],
   "source": [
    "# [:, 0] is radar\n",
    "# 1 is disdrometer\n",
    "# 2, 3 are era5 lower and upper bounds\n",
    "allAccum = np.empty([365, 4])\n",
    "allAccum[:, :] = np.nan"
   ]
  },
  {
   "cell_type": "code",
   "execution_count": 29,
   "id": "66d62d9c",
   "metadata": {},
   "outputs": [],
   "source": [
    "radarAccumArr = np.array(radarAccum_list)\n",
    "mmddArr = np.array(mmdd_list)\n",
    "\n",
    "for i in range(len(mmddArr)):\n",
    "    date_obj = datetime.strptime('2023' + mmddArr[i], '%Y%m%d')\n",
    "    day_of_year_idx = date_obj.timetuple().tm_yday - 1  # 0-based indexing\n",
    "\n",
    "    allAccum[day_of_year_idx, 0] = radarAccumArr[i]"
   ]
  },
  {
   "cell_type": "code",
   "execution_count": 47,
   "id": "e7b77823",
   "metadata": {},
   "outputs": [
    {
     "name": "stderr",
     "output_type": "stream",
     "text": [
      "/tmp/ipykernel_2432398/946922384.py:11: DeprecationWarning: __array__ implementation doesn't accept a copy keyword, so passing copy=False failed. __array__ must implement 'dtype' and 'copy' keyword arguments. To learn more, see the migration guide https://numpy.org/devdocs/numpy_2_0_migration_guide.html#adapting-to-changes-in-the-copy-keyword\n",
      "  rainRate = np.array(dayFile.variables['rainfall_rate']) * 1000 * 60 * 60 # time units\n",
      "/tmp/ipykernel_2432398/946922384.py:14: DeprecationWarning: `trapz` is deprecated. Use `trapezoid` instead, or one of the numerical integration functions in `scipy.integrate`.\n",
      "  disdAccum = np.trapz(snowRate, dx=24/len(snowRate))\n"
     ]
    }
   ],
   "source": [
    "dis_file_path = '/gws/nopw/j04/tone_ico_gws/cloudnet/neumayer/disdrometer/'\n",
    "\n",
    "dis_file_list = sorted(glob.glob('/gws/nopw/j04/tone_ico_gws/cloudnet/neumayer/disdrometer/2023*.nc'))  # Adjust path based on month\n",
    "\n",
    "dis_mmdd_list = []\n",
    "disAccum_list = []\n",
    "\n",
    "for dis_file in dis_file_list:\n",
    "    dayFile = nc.Dataset(dis_file)\n",
    "\n",
    "    rainRate = np.array(dayFile.variables['rainfall_rate']) * 1000 * 60 * 60 # time units\n",
    "    snowRate = (rainRate ** 1.9) * 0.03344 # Matrosov et al (2022) mass size relation\n",
    "\n",
    "    disdAccum = np.trapz(snowRate, dx=24/len(snowRate))\n",
    "    \n",
    "    # Regular expression to find MMDD after '2023'\n",
    "    match = re.search(r'/2023(\\d{4})', dis_file)\n",
    "    mmdd = match.group(1)\n",
    "\n",
    "    dis_mmdd_list.append(mmdd)\n",
    "    disAccum_list.append(disdAccum)\n",
    "\n",
    "\n"
   ]
  },
  {
   "cell_type": "code",
   "execution_count": 48,
   "id": "85b7ca74",
   "metadata": {},
   "outputs": [],
   "source": [
    "disdf = pd.DataFrame({'mmdd': dis_mmdd_list, 'disAccum': disAccum_list})\n",
    "disdf.to_csv('disdrometer_accumulation_by_day.csv', index=False)"
   ]
  },
  {
   "cell_type": "code",
   "execution_count": 49,
   "id": "84a68c84",
   "metadata": {},
   "outputs": [],
   "source": [
    "disAccumArr = np.array(disAccum_list)\n",
    "dismmddArr = np.array(dis_mmdd_list)\n",
    "\n",
    "for i in range(len(dismmddArr)):\n",
    "    date_obj = datetime.strptime('2023' + dismmddArr[i], '%Y%m%d')\n",
    "    day_of_year_idx = date_obj.timetuple().tm_yday - 1  # 0-based indexing\n",
    "\n",
    "    allAccum[day_of_year_idx, 1] = disAccumArr[i]"
   ]
  },
  {
   "cell_type": "code",
   "execution_count": 51,
   "id": "134790da",
   "metadata": {},
   "outputs": [
    {
     "data": {
      "text/plain": [
       "<matplotlib.legend.Legend at 0x7fbb2815f610>"
      ]
     },
     "execution_count": 51,
     "metadata": {},
     "output_type": "execute_result"
    },
    {
     "data": {
      "image/png": "[encoded data removed]",
      "text/plain": [
       "<Figure size 640x480 with 1 Axes>"
      ]
     },
     "metadata": {},
     "output_type": "display_data"
    }
   ],
   "source": [
    "dates = np.arange('2023-01-01', '2024-01-01', dtype='datetime64[D]')\n",
    "plt.plot(dates, allAccum[:, 0], label='radar')\n",
    "plt.plot(dates, allAccum[:, 1], label='disdrometer')\n",
    "plt.legend()\n"
   ]
  },
  {
   "cell_type": "code",
   "execution_count": 52,
   "id": "3c81e911",
   "metadata": {},
   "outputs": [
    {
     "name": "stdout",
     "output_type": "stream",
     "text": [
      "6223.8438\n"
     ]
    }
   ],
   "source": [
    "print(np.sum(disAccumArr))"
   ]
  }
 ],
 "metadata": {
  "kernelspec": {
   "display_name": "firstTest",
   "language": "python",
   "name": "python3"
  },
  "language_info": {
   "codemirror_mode": {
    "name": "ipython",
    "version": 3
   },
   "file_extension": ".py",
   "mimetype": "text/x-python",
   "name": "python",
   "nbconvert_exporter": "python",
   "pygments_lexer": "ipython3",
   "version": "3.13.3"
  }
 },
 "nbformat": 4,
 "nbformat_minor": 5
}
